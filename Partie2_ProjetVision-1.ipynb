{
 "cells": [
  {
   "cell_type": "markdown",
   "id": "e33f3120",
   "metadata": {},
   "source": [
    "# Data Preprocessing "
   ]
  },
  {
   "cell_type": "code",
   "execution_count": 1,
   "id": "9efdc1f5",
   "metadata": {},
   "outputs": [],
   "source": [
    "import numpy as np\n",
    "import cv2"
   ]
  },
  {
   "cell_type": "code",
   "execution_count": 2,
   "id": "1c721319",
   "metadata": {},
   "outputs": [],
   "source": [
    "def load_lightSources():\n",
    "    lightSources_file = np.loadtxt(r'C:\\Users\\DELL\\Downloads\\projetVisonData\\light_directions.txt')\n",
    "    return lightSources_file"
   ]
  },
  {
   "cell_type": "code",
   "execution_count": 3,
   "id": "131388db",
   "metadata": {},
   "outputs": [],
   "source": [
    "def load_intensSources():\n",
    "    intensSources_file=np.loadtxt(r'C:\\Users\\DELL\\Downloads\\projetVisonData\\light_intensities.txt')\n",
    "    return intensSources_file "
   ]
  },
  {
   "cell_type": "code",
   "execution_count": 4,
   "id": "9fdde470",
   "metadata": {},
   "outputs": [],
   "source": [
    "def load_objMask():\n",
    "    mask=cv2.imread(r'C:\\Users\\DELL\\Downloads\\projetVisonData\\mask.png')\n",
    "    mask_binaire=mask[:,:,0]\n",
    "    mask_binaire[mask_binaire==255]=1\n",
    "    return mask_binaire"
   ]
  },
  {
   "cell_type": "code",
   "execution_count": 5,
   "id": "220af0fe",
   "metadata": {},
   "outputs": [],
   "source": [
    "x=load_lightSources()\n",
    "y=load_intensSources()\n",
    "Mask=load_objMask() #image mask with 0 and 1"
   ]
  },
  {
   "cell_type": "code",
   "execution_count": null,
   "id": "c2a4aada",
   "metadata": {},
   "outputs": [],
   "source": []
  }
 ],
 "metadata": {
  "kernelspec": {
   "display_name": "Python 3 (ipykernel)",
   "language": "python",
   "name": "python3"
  },
  "language_info": {
   "codemirror_mode": {
    "name": "ipython",
    "version": 3
   },
   "file_extension": ".py",
   "mimetype": "text/x-python",
   "name": "python",
   "nbconvert_exporter": "python",
   "pygments_lexer": "ipython3",
   "version": "3.8.5"
  }
 },
 "nbformat": 4,
 "nbformat_minor": 5
}
