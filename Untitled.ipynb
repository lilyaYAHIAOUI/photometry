{
 "cells": [
  {
   "cell_type": "markdown",
   "id": "e3628fad",
   "metadata": {},
   "source": [
    "# load the data"
   ]
  },
  {
   "cell_type": "code",
   "execution_count": 12,
   "id": "e1a280f0",
   "metadata": {},
   "outputs": [],
   "source": [
    "import numpy as np\n",
    "import os\n",
    "import cv2"
   ]
  },
  {
   "cell_type": "code",
   "execution_count": 2,
   "id": "b1184d3d",
   "metadata": {},
   "outputs": [],
   "source": [
    "paths = {\n",
    "    \"IMAGES_PATH\" : \"./images/\",\n",
    "    \"DATA_PATH\" :  \"./data/\",\n",
    "    \"LIGHT_DIRECTIONS_PATH\" : \"./data/light_directions.txt\",\n",
    "    \"LIGHT_INTENSITIES_PATH\":\"./data/light_intensities.txt\",\n",
    "    \"FILENAMES_PATH\" : \"./data/filenames.txt\",\n",
    "    \"NORMAL_PATH\": \"./data/normal.txt\"\n",
    "    \n",
    "}\n",
    "\n",
    "\n"
   ]
  },
  {
   "cell_type": "code",
   "execution_count": 6,
   "id": "75964aba",
   "metadata": {},
   "outputs": [],
   "source": [
    "def load_light_sources():\n",
    "    light_sources = np.loadtxt(paths[\"LIGHT_DIRECTIONS_PATH\"])\n",
    "    return light_sources"
   ]
  },
  {
   "cell_type": "code",
   "execution_count": 11,
   "id": "9c4f04e4",
   "metadata": {},
   "outputs": [],
   "source": [
    "def load_intens_sources():\n",
    "    light_sources = np.loadtxt(paths[\"LIGHT_INTENSITIES_PATH\"])\n",
    "    return light_sources"
   ]
  },
  {
   "cell_type": "code",
   "execution_count": null,
   "id": "ad8b41b8",
   "metadata": {},
   "outputs": [],
   "source": []
  }
 ],
 "metadata": {
  "kernelspec": {
   "display_name": "Python 3 (ipykernel)",
   "language": "python",
   "name": "python3"
  },
  "language_info": {
   "codemirror_mode": {
    "name": "ipython",
    "version": 3
   },
   "file_extension": ".py",
   "mimetype": "text/x-python",
   "name": "python",
   "nbconvert_exporter": "python",
   "pygments_lexer": "ipython3",
   "version": "3.8.5"
  }
 },
 "nbformat": 4,
 "nbformat_minor": 5
}
