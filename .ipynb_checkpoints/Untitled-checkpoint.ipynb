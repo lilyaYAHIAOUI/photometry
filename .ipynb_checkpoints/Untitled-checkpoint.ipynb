{
 "cells": [
  {
   "cell_type": "markdown",
   "id": "89b617a6",
   "metadata": {},
   "source": [
    "# load the data"
   ]
  },
  {
   "cell_type": "code",
   "execution_count": 12,
   "id": "38319d3d",
   "metadata": {},
   "outputs": [],
   "source": [
    "import numpy as np\n",
    "import os\n",
    "import cv2"
   ]
  },
  {
   "cell_type": "code",
   "execution_count": 2,
   "id": "0f973509",
   "metadata": {},
   "outputs": [],
   "source": [
    "paths = {\n",
    "    \"IMAGES_PATH\" : \"./images/\",\n",
    "    \"DATA_PATH\" :  \"./data/\",\n",
    "    \"LIGHT_DIRECTIONS_PATH\" : \"./data/light_directions.txt\",\n",
    "    \"LIGHT_INTENSITIES_PATH\":\"./data/light_intensities.txt\",\n",
    "    \"FILENAMES_PATH\" : \"./data/filenames.txt\",\n",
    "    \"NORMAL_PATH\": \"./data/normal.txt\"\n",
    "    \n",
    "}\n",
    "\n",
    "\n"
   ]
  },
  {
   "cell_type": "code",
   "execution_count": 6,
   "id": "9bd5e6e6",
   "metadata": {},
   "outputs": [],
   "source": [
    "def load_light_sources():\n",
    "    light_sources = np.loadtxt(paths[\"LIGHT_DIRECTIONS_PATH\"])\n",
    "    return light_sources"
   ]
  },
  {
   "cell_type": "code",
   "execution_count": 11,
   "id": "7a853dee",
   "metadata": {},
   "outputs": [],
   "source": [
    "def load_intens_sources():\n",
    "    light_sources = np.loadtxt(paths[\"LIGHT_INTENSITIES_PATH\"])\n",
    "    return light_sources"
   ]
  },
  {
   "cell_type": "code",
   "execution_count": null,
   "id": "c36a5e46",
   "metadata": {},
   "outputs": [],
   "source": []
  }
 ],
 "metadata": {
  "kernelspec": {
   "display_name": "Python 3 (ipykernel)",
   "language": "python",
   "name": "python3"
  },
  "language_info": {
   "codemirror_mode": {
    "name": "ipython",
    "version": 3
   },
   "file_extension": ".py",
   "mimetype": "text/x-python",
   "name": "python",
   "nbconvert_exporter": "python",
   "pygments_lexer": "ipython3",
   "version": "3.8.5"
  }
 },
 "nbformat": 4,
 "nbformat_minor": 5
}
