{
 "cells": [
  {
   "cell_type": "markdown",
   "id": "dfca5762",
   "metadata": {},
   "source": [
    "# load the data"
   ]
  },
  {
   "cell_type": "code",
   "execution_count": 1,
   "id": "59ea56d0",
   "metadata": {},
   "outputs": [],
   "source": [
    "import numpy as np\n",
    "import os\n",
    "import cv2\n"
   ]
  },
  {
   "cell_type": "code",
   "execution_count": 2,
   "id": "3e7a8854",
   "metadata": {},
   "outputs": [],
   "source": [
    "paths = {\n",
    "    \"IMAGES_PATH\" : \"./images/\",\n",
    "    \"DATA_PATH\" :  \"./data/\",\n",
    "    \"LIGHT_DIRECTIONS_PATH\" : \"./data/light_directions.txt\",\n",
    "    \"LIGHT_INTENSITIES_PATH\":\"./data/light_intensities.txt\",\n",
    "    \"FILENAMES_PATH\" : \"./data/filenames.txt\",\n",
    "    \"NORMAL_PATH\": \"./data/normal.txt\"\n",
    "    \n",
    "}\n",
    "\n",
    "\n"
   ]
  },
  {
   "cell_type": "code",
   "execution_count": 3,
   "id": "44384b4b",
   "metadata": {},
   "outputs": [],
   "source": [
    "def load_light_sources():\n",
    "    light_sources = np.loadtxt(paths[\"LIGHT_DIRECTIONS_PATH\"])\n",
    "    return light_sources"
   ]
  },
  {
   "cell_type": "code",
   "execution_count": 4,
   "id": "69b239b8",
   "metadata": {},
   "outputs": [],
   "source": [
    "def load_intens_sources():\n",
    "    light_sources = np.loadtxt(paths[\"LIGHT_INTENSITIES_PATH\"])\n",
    "    return light_sources"
   ]
  },
  {
   "cell_type": "code",
   "execution_count": 5,
   "id": "0f2e3a40",
   "metadata": {},
   "outputs": [],
   "source": [
    "def load_objMask():\n",
    "    mask_images = cv2.imread(paths[\"DATA_PATH\"]+\"mask.png\",cv2.IMREAD_GRAYSCALE)\n",
    "    img_np = np.asarray(mask_images)\n",
    "    img_np[img_np  == 255] =1\n",
    "\n",
    "    return img_np"
   ]
  },
  {
   "cell_type": "code",
   "execution_count": 6,
   "id": "6ddcd4e4",
   "metadata": {},
   "outputs": [
    {
     "name": "stdout",
     "output_type": "stream",
     "text": [
      "(96, 3)\n"
     ]
    }
   ],
   "source": [
    "a=load_light_sources()\n",
    "print(a.shape)"
   ]
  },
  {
   "cell_type": "code",
   "execution_count": 7,
   "id": "3cbfcc26",
   "metadata": {},
   "outputs": [
    {
     "name": "stdout",
     "output_type": "stream",
     "text": [
      "(512, 612, 3)\n"
     ]
    }
   ],
   "source": [
    "image2 = cv2.imread(paths[\"IMAGES_PATH\"]+\"001.png\")\n",
    "image_shape = image2.shape\n",
    "h,w ,_ = image2.shape\n",
    "print(image_shape)"
   ]
  },
  {
   "cell_type": "code",
   "execution_count": 11,
   "id": "35c0932e",
   "metadata": {},
   "outputs": [
    {
     "name": "stdout",
     "output_type": "stream",
     "text": [
      "(96, 3)\n"
     ]
    }
   ],
   "source": [
    "intensities =  load_intens_sources()\n",
    "print(intensities.shape)"
   ]
  },
  {
   "cell_type": "code",
   "execution_count": 15,
   "id": "3f8be81a",
   "metadata": {},
   "outputs": [
    {
     "data": {
      "text/plain": [
       "1.3"
      ]
     },
     "execution_count": 15,
     "metadata": {},
     "output_type": "execute_result"
    }
   ],
   "source": [
    "intensities[0][0]"
   ]
  },
  {
   "cell_type": "code",
   "execution_count": 22,
   "id": "51cc86d4",
   "metadata": {},
   "outputs": [],
   "source": [
    "def load_images():\n",
    "    file_names = []\n",
    "    intensities = load_intens_sources()\n",
    "    image_number = 0\n",
    "    all_images = np.array((96))\n",
    "    with open(paths[\"FILENAMES_PATH\"]) as f :\n",
    "        file_names = f.readlines()\n",
    "    for image_name in files_names:\n",
    "        image = cv2.imread(paths[\"DATA_PATH\"] + image_name, cv2.IMREAD_UNCHANGED)\n",
    "        if image is None :\n",
    "            print(\"image null\")\n",
    "        else :\n",
    "            # a- cahnge the range of values (uint 16 ----> float32)\n",
    "            image = image.astype(np.float32)\n",
    "            range_16 = math.pow(2,16) - 1\n",
    "            image_float = image/ range_16\n",
    "            \n",
    "            #b Divide each pixel on the intensity of the source (B/intB, G/intG, R/intR) \n",
    "            for channel in range(3): \n",
    "                image_float[:,:,channel] = image_float[:,:,channel]/intensities[image_number][channel]\n",
    "            \n",
    "            #c Convert images to grayscale (NVG = 0.3 * R + 0.59 * G + 0.11 * B)\n",
    "            B, G, R = image_float[:,:,0] , image_float[:,:,1] , image_float[:,:,2]\n",
    "            gray_img = 0.3 * R + 0.59 * G + 0.11 * B\n",
    "            \n",
    "            #d reshape image \n",
    "            image_reshaped = gray_img.reshape(1 , -1)\n",
    "            \n",
    "            #\n",
    "            \n",
    "            \n",
    "        \n",
    "                \n",
    "                \n",
    "                \n",
    "                \n",
    "            \n",
    "            \n",
    "            \n",
    "        \n",
    "        \n",
    "        \n",
    "        \n",
    "        "
   ]
  },
  {
   "cell_type": "code",
   "execution_count": 23,
   "id": "627c8b1a",
   "metadata": {},
   "outputs": [
    {
     "name": "stdout",
     "output_type": "stream",
     "text": [
      "./images/.\n"
     ]
    },
    {
     "ename": "AttributeError",
     "evalue": "'NoneType' object has no attribute 'shape'",
     "output_type": "error",
     "traceback": [
      "\u001b[1;31m---------------------------------------------------------------------------\u001b[0m",
      "\u001b[1;31mAttributeError\u001b[0m                            Traceback (most recent call last)",
      "\u001b[1;32m~\\AppData\\Local\\Temp/ipykernel_8668/4103829436.py\u001b[0m in \u001b[0;36m<module>\u001b[1;34m\u001b[0m\n\u001b[1;32m----> 1\u001b[1;33m \u001b[0mload_images\u001b[0m\u001b[1;33m(\u001b[0m\u001b[1;33m)\u001b[0m\u001b[1;33m\u001b[0m\u001b[1;33m\u001b[0m\u001b[0m\n\u001b[0m",
      "\u001b[1;32m~\\AppData\\Local\\Temp/ipykernel_8668/1943624773.py\u001b[0m in \u001b[0;36mload_images\u001b[1;34m()\u001b[0m\n\u001b[0;32m      7\u001b[0m         \u001b[0mprint\u001b[0m\u001b[1;33m(\u001b[0m\u001b[0mpaths\u001b[0m\u001b[1;33m[\u001b[0m\u001b[1;34m\"IMAGES_PATH\"\u001b[0m\u001b[1;33m]\u001b[0m\u001b[1;33m+\u001b[0m \u001b[0mimage\u001b[0m\u001b[1;33m)\u001b[0m\u001b[1;33m\u001b[0m\u001b[1;33m\u001b[0m\u001b[0m\n\u001b[0;32m      8\u001b[0m         \u001b[0mimg\u001b[0m \u001b[1;33m=\u001b[0m \u001b[0mcv2\u001b[0m\u001b[1;33m.\u001b[0m\u001b[0mimread\u001b[0m\u001b[1;33m(\u001b[0m\u001b[0mpaths\u001b[0m\u001b[1;33m[\u001b[0m\u001b[1;34m\"IMAGES_PATH\"\u001b[0m\u001b[1;33m]\u001b[0m\u001b[1;33m+\u001b[0m \u001b[0mimage\u001b[0m\u001b[1;33m)\u001b[0m\u001b[1;33m\u001b[0m\u001b[1;33m\u001b[0m\u001b[0m\n\u001b[1;32m----> 9\u001b[1;33m         \u001b[0mprint\u001b[0m\u001b[1;33m(\u001b[0m\u001b[0mimg\u001b[0m\u001b[1;33m.\u001b[0m\u001b[0mshape\u001b[0m\u001b[1;33m)\u001b[0m\u001b[1;33m\u001b[0m\u001b[1;33m\u001b[0m\u001b[0m\n\u001b[0m\u001b[0;32m     10\u001b[0m         \u001b[0mimg_np\u001b[0m \u001b[1;33m=\u001b[0m \u001b[0mnp\u001b[0m\u001b[1;33m.\u001b[0m\u001b[0masarray\u001b[0m\u001b[1;33m(\u001b[0m\u001b[0mimg\u001b[0m\u001b[1;33m)\u001b[0m\u001b[1;33m\u001b[0m\u001b[1;33m\u001b[0m\u001b[0m\n\u001b[0;32m     11\u001b[0m         \u001b[0mimg_np\u001b[0m \u001b[1;33m=\u001b[0m \u001b[0mimg_np\u001b[0m \u001b[1;33m*\u001b[0m \u001b[1;36m65535\u001b[0m\u001b[1;33m\u001b[0m\u001b[1;33m\u001b[0m\u001b[0m\n",
      "\u001b[1;31mAttributeError\u001b[0m: 'NoneType' object has no attribute 'shape'"
     ]
    }
   ],
   "source": [
    "load_images()"
   ]
  },
  {
   "cell_type": "code",
   "execution_count": null,
   "id": "ff2f6b5d",
   "metadata": {},
   "outputs": [],
   "source": []
  }
 ],
 "metadata": {
  "kernelspec": {
   "display_name": "Python 3 (ipykernel)",
   "language": "python",
   "name": "python3"
  },
  "language_info": {
   "codemirror_mode": {
    "name": "ipython",
    "version": 3
   },
   "file_extension": ".py",
   "mimetype": "text/x-python",
   "name": "python",
   "nbconvert_exporter": "python",
   "pygments_lexer": "ipython3",
   "version": "3.8.5"
  }
 },
 "nbformat": 4,
 "nbformat_minor": 5
}
